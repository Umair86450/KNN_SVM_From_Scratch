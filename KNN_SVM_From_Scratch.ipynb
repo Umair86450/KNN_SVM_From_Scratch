{
  "nbformat": 4,
  "nbformat_minor": 0,
  "metadata": {
    "colab": {
      "provenance": []
    },
    "kernelspec": {
      "name": "python3",
      "display_name": "Python 3"
    },
    "language_info": {
      "name": "python"
    }
  },
  "cells": [
    {
      "cell_type": "markdown",
      "source": [
        "# 1. What is KNN?\n",
        "KNN (K-Nearest Neighbors) is a supervised learning algorithm used for both classification and regression.  \n",
        "It is a lazy learning algorithm — it does not learn a model during training. Instead, it memorizes the training data and makes predictions at runtime based on the closest data points.\n",
        "\n",
        "---\n",
        "\n",
        "# 2. How Does KNN Work?\n",
        "1. Choose the number of neighbors (K).  \n",
        "2. Calculate the distance (usually Euclidean) between the query point and all training points.  \n",
        "3. Select the K nearest neighbors.  \n",
        "4. For classification: take the majority vote among neighbors.  \n",
        "   For regression: take the average of neighbor values.\n",
        "\n",
        "---\n",
        "\n",
        "# 3. Key Concepts\n",
        "**Distance Metrics:**  \n",
        "- Euclidean  \n",
        "- Manhattan  \n",
        "- Minkowski  \n",
        "- Cosine  \n",
        "\n",
        "**Choosing K:**  \n",
        "- Small K → sensitive to noise.  \n",
        "- Large K → smoother predictions but may include irrelevant neighbors.\n",
        "\n",
        "---\n",
        "\n",
        "# 4. Pros and Cons of KNN\n",
        "\n",
        "**Pros:**  \n",
        "- Simple to implement  \n",
        "- No training phase  \n",
        "- Works for classification & regression  \n",
        "- Adaptable to non-linear data  \n",
        "\n",
        "**Cons:**  \n",
        "- Slow at prediction time  \n",
        "- Sensitive to outliers  \n",
        "- Affected by scale  \n",
        "- High memory usage  \n",
        "- Poor with high-dimensional data\n",
        "\n",
        "---\n",
        "\n",
        "# 5. Limitations\n",
        "1. **Large Datasets:**  \n",
        "   - Problem: Slow predictions.  \n",
        "   - Solution: Use KD-Trees, Ball Trees, or approximate nearest neighbors.\n",
        "\n",
        "2. **High Dimensional Data:**  \n",
        "   - Problem: Curse of dimensionality.  \n",
        "   - Solution: Use dimensionality reduction (PCA, t-SNE).\n",
        "\n",
        "3. **Outliers:**  \n",
        "   - Problem: Outliers mislead predictions.  \n",
        "   - Solution: Remove outliers or increase K.\n",
        "\n",
        "4. **Non-Homogeneous Scale:**  \n",
        "   - Problem: Features with large values dominate.  \n",
        "   - Solution: Standardize or normalize features.\n",
        "\n",
        "5. **Imbalanced Datasets:**  \n",
        "   - Problem: Majority class dominates.  \n",
        "   - Solution: Use weighted KNN or resampling methods.\n",
        "\n",
        "6. **Prediction, Not Inference:**  \n",
        "   - Problem: No feature importance or interpretability.  \n",
        "   - Solution: Use only when prediction is the goal.\n",
        "\n",
        "---\n",
        "\n",
        "# 6. Real-World Use Cases\n",
        "- Recommender Systems  \n",
        "- Image Recognition  \n",
        "- Document Classification  \n",
        "- Anomaly Detection\n",
        "\n",
        "---\n",
        "\n",
        "# 7. Best Practices\n",
        "- Always scale features  \n",
        "- Tune K using cross-validation  \n",
        "- Try weighted KNN  \n",
        "- Remove outliers  \n",
        "- Use PCA for high dimensions  \n",
        "- Avoid for very large datasets\n",
        "\n",
        "---\n",
        "\n",
        "# 8. Summary Table\n",
        "\n",
        "| Aspect                  | KNN Behavior                |\n",
        "|-------------------------|-----------------------------|\n",
        "| Learning Type           | Lazy (instance-based)       |\n",
        "| Training Time           | Fast                        |\n",
        "| Prediction Time         | Slow                        |\n",
        "| Interpretability        | Low                         |\n",
        "| Feature Scaling Needed  | Yes                         |\n",
        "| Sensitivity to Outliers | High                        |\n",
        "| Works with Large Data   | Poor unless optimized       |\n",
        "| Handles Multiclass?     | Yes                         |\n",
        "| Dimensionality Tolerant | No – needs reduction        |\n"
      ],
      "metadata": {
        "id": "h59JPiHrfsDJ"
      }
    },
    {
      "cell_type": "markdown",
      "source": [
        "# 🧠 K-Nearest Neighbors (KNN) from Scratch in Pure Python\n",
        "\n",
        "This is a basic implementation of the **KNN algorithm** for classification, created using only built-in Python features (no external libraries). This will help you understand how KNN actually works behind the scenes.\n",
        "\n",
        "---\n",
        "\n"
      ],
      "metadata": {
        "id": "es1JUlr5cdRr"
      }
    },
    {
      "cell_type": "markdown",
      "source": [
        "## 📦 **Step 1: Create a Small Dataset**"
      ],
      "metadata": {
        "id": "dt2snzqFPoXx"
      }
    },
    {
      "cell_type": "code",
      "source": [
        "# Sample training dataset with features and class labels\n",
        "dataset = [\n",
        "    [2, 4, 'A'],   # Point 1 belongs to class A\n",
        "    [4, 6, 'A'],   # Point 2 belongs to class A\n",
        "    [6, 8, 'B'],   # Point 3 belongs to class B\n",
        "    [8, 10, 'B'],  # Point 4 belongs to class B\n",
        "    [1, 1, 'A']    # Point 5 belongs to class A\n",
        "]"
      ],
      "metadata": {
        "id": "zirVCdJMPsIJ"
      },
      "execution_count": 85,
      "outputs": []
    },
    {
      "cell_type": "markdown",
      "source": [
        "📝 **Explanation**:  \n",
        "Each data point has two features (like *x* and *y*) and a label ('A' or 'B'). This dataset will be used to compare against a new point we want to classify.\n"
      ],
      "metadata": {
        "id": "aV9lGrxfdEiP"
      }
    },
    {
      "cell_type": "markdown",
      "source": [
        "### 📏 **Step 2: Calculate Euclidean Distance**\n"
      ],
      "metadata": {
        "id": "SLngXhRqcgsP"
      }
    },
    {
      "cell_type": "code",
      "source": [
        "import math\n",
        "\n",
        "def euclidean_distance(point1, point2):\n",
        "    \"\"\"\n",
        "    Calculate Euclidean distance between two points.\n",
        "    Each point is a list of features.\n",
        "    \"\"\"\n",
        "    distance = 0\n",
        "    for i in range(len(point1)):\n",
        "        distance += (point1[i] - point2[i]) ** 2  # sum of squared differences\n",
        "    return math.sqrt(distance)  # take square root to complete distance formula\n"
      ],
      "metadata": {
        "id": "AOrRIJP4cdxa"
      },
      "execution_count": 86,
      "outputs": []
    },
    {
      "cell_type": "markdown",
      "source": [
        "📝 **Explanation**:  \n",
        "This function calculates how \"far apart\" two points are using the Euclidean distance formula:\n",
        "\n",
        "$$\n",
        "\\text{Distance} = \\sqrt{(x_2 - x_1)^2 + (y_2 - y_1)^2}\n",
        "$$\n"
      ],
      "metadata": {
        "id": "sZcEcWq1de9U"
      }
    },
    {
      "cell_type": "markdown",
      "source": [
        "### 🔍 **Step 3: Find K Nearest Neighbors**\n"
      ],
      "metadata": {
        "id": "dRyf8kFSdvyL"
      }
    },
    {
      "cell_type": "code",
      "source": [
        "def get_neighbors(training_data, test_point, k):\n",
        "    \"\"\"\n",
        "    Find the k closest data points (neighbors) to the test_point.\n",
        "    \"\"\"\n",
        "    distances = []\n",
        "    for row in training_data:\n",
        "        features = row[:-1]  # All values except label\n",
        "        label = row[-1]      # Last value is the label\n",
        "        dist = euclidean_distance(features, test_point)  # Calculate distance\n",
        "        distances.append((dist, label))  # Save (distance, label)\n",
        "\n",
        "    distances.sort()  # Sort by smallest distance\n",
        "    neighbors = distances[:k]  # Take first k points\n",
        "    return neighbors\n"
      ],
      "metadata": {
        "id": "D7L9LXi-cwXy"
      },
      "execution_count": 87,
      "outputs": []
    },
    {
      "cell_type": "markdown",
      "source": [
        "📝 **Explanation:**  \n",
        "This function goes through each training point, calculates its distance to the test point, and keeps track of the closest *k* neighbors.\n"
      ],
      "metadata": {
        "id": "3tgbz9Bid2pC"
      }
    },
    {
      "cell_type": "code",
      "source": [
        "\n",
        "# Define a new data point we want to classify (features only, no label)\n",
        "test_point = [5, 7]\n",
        "\n",
        "# Set the number of neighbors to consider\n",
        "k = 3\n",
        "\n",
        "# Find the k nearest neighbors from the dataset to the test point\n",
        "get_neighbors(dataset , test_point, k)\n"
      ],
      "metadata": {
        "colab": {
          "base_uri": "https://localhost:8080/"
        },
        "id": "mE_Gd9O6fCiO",
        "outputId": "64a0ca2c-9015-4d64-c592-a38626915e07"
      },
      "execution_count": 88,
      "outputs": [
        {
          "output_type": "execute_result",
          "data": {
            "text/plain": [
              "[(1.4142135623730951, 'A'),\n",
              " (1.4142135623730951, 'B'),\n",
              " (4.242640687119285, 'A')]"
            ]
          },
          "metadata": {},
          "execution_count": 88
        }
      ]
    },
    {
      "cell_type": "markdown",
      "source": [
        "\n",
        "📝 **Explanation:**\n",
        "- `test_point`: The input for which we want to predict the class.\n",
        "- `k`: The number of nearest neighbors to use for classification.\n",
        "- `get_neighbors(...)`: This function returns the top `k` closest training points (based on Euclidean distance) to the `test_point`.\n",
        "\n",
        "\n"
      ],
      "metadata": {
        "id": "tGZf9FTlfMiM"
      }
    },
    {
      "cell_type": "markdown",
      "source": [
        "### ✅ **Step 4: Make a Prediction Using Voting**\n"
      ],
      "metadata": {
        "id": "OPaxZ94zeFW6"
      }
    },
    {
      "cell_type": "code",
      "source": [
        "def predict_classification(training_data, test_point, k):\n",
        "    \"\"\"\n",
        "    Predict the class label by majority vote among the k nearest neighbors.\n",
        "    \"\"\"\n",
        "    neighbors = get_neighbors(training_data, test_point, k)\n",
        "    class_votes = {}\n",
        "\n",
        "    for dist, label in neighbors:\n",
        "        if label not in class_votes:\n",
        "            class_votes[label] = 1\n",
        "        else:\n",
        "            class_votes[label] += 1\n",
        "\n",
        "    # Find the class with the most votes\n",
        "    return max(class_votes, key=class_votes.get)\n"
      ],
      "metadata": {
        "id": "WQ4qb0Mvd0XU"
      },
      "execution_count": 89,
      "outputs": []
    },
    {
      "cell_type": "markdown",
      "source": [
        "📝 **Explanation**:  \n",
        "This function collects the *k* nearest labels and then finds the one with the highest frequency. That’s the predicted class. This is how majority voting works in KNN classification.\n"
      ],
      "metadata": {
        "id": "AY6ZQOereQ9j"
      }
    },
    {
      "cell_type": "markdown",
      "source": [
        "### 🧪 **Step 5: Test the KNN Algorithm**\n"
      ],
      "metadata": {
        "id": "QRpGj4xIeWst"
      }
    },
    {
      "cell_type": "code",
      "source": [
        "# Define the point to classify (only features, no label)\n",
        "test_point = [5, 7]\n",
        "\n",
        "# Number of neighbors to consider\n",
        "k = 3\n",
        "\n",
        "# Make the prediction\n",
        "prediction = predict_classification(dataset, test_point, k)\n",
        "\n",
        "# Show the result\n",
        "print(\"Predicted class:\", prediction)\n"
      ],
      "metadata": {
        "colab": {
          "base_uri": "https://localhost:8080/"
        },
        "id": "Y2iC0EsmeIcR",
        "outputId": "0aca09b1-6110-4f77-e2ae-122a4c88489a"
      },
      "execution_count": 90,
      "outputs": [
        {
          "output_type": "stream",
          "name": "stdout",
          "text": [
            "Predicted class: A\n"
          ]
        }
      ]
    },
    {
      "cell_type": "markdown",
      "source": [
        "📝 **Explanation:**  \n",
        "We are predicting the label for the point `[5, 7]`. The function will look at the 3 nearest points from the training set and choose the most common label among them.\n"
      ],
      "metadata": {
        "id": "b-x8WBkhedTZ"
      }
    },
    {
      "cell_type": "markdown",
      "source": [
        "✅ **Summary of How This Works**\n",
        "\n",
        "| Step    | Description                                 |\n",
        "|---------|---------------------------------------------|\n",
        "| Step 1  | Define training data with labels            |\n",
        "| Step 2  | Use Euclidean formula to measure similarity |\n",
        "| Step 3  | Find K closest points (neighbors)           |\n",
        "| Step 4  | Use voting to decide most common class      |\n",
        "| Step 5  | Predict label and print result              |\n"
      ],
      "metadata": {
        "id": "bj4x7tJQer_c"
      }
    },
    {
      "cell_type": "markdown",
      "source": [
        "----------------------------------------------------------------------------------------------------------------------------------------------------------------------------------------------------------------------------------"
      ],
      "metadata": {
        "id": "mP7nuPCmQjbW"
      }
    },
    {
      "cell_type": "code",
      "source": [],
      "metadata": {
        "id": "DtQ4sxKIMcNp"
      },
      "execution_count": 91,
      "outputs": []
    },
    {
      "cell_type": "markdown",
      "source": [
        "# 🧠 Support Vector Machine (SVM) — Complete Notes\n",
        "\n",
        "---\n",
        "\n",
        "## 📌 What is SVM?\n",
        "\n",
        "**Support Vector Machine (SVM)** is a powerful **supervised machine learning algorithm** used for both classification and regression tasks.  \n",
        "Its goal is to find a **decision boundary (hyperplane)** that best separates data into classes with the **maximum margin**.\n",
        "\n",
        "---\n",
        "\n",
        "## 🧩 How SVM Works\n",
        "\n",
        "- SVM finds the **best line or hyperplane** that divides the data into two classes.\n",
        "- It chooses the one with the **maximum margin**, i.e., the farthest from the nearest data points of each class.\n",
        "- These closest points are called **support vectors**.\n",
        "\n",
        "### 🧮 Decision Function\n",
        "\n",
        "For 2D:\n",
        "\n",
        "$$\n",
        "f(x) = w \\cdot x + b\n",
        "$$\n",
        "\n",
        "- \\( w \\): weights  \n",
        "- \\( b \\): bias (intercept)\n",
        "\n",
        "Classification:\n",
        "\n",
        "- If \\( f(x) \\>= 0 \\) → class `+1`\n",
        "- If \\( f(x) < 0 \\) → class `-1\n",
        "\n",
        "---\n",
        "\n",
        "## 📐 Hyperplane, Margin, and Support Vectors\n",
        "\n",
        "- **Hyperplane**: A boundary that separates data into classes.\n",
        "- **Margin**: Distance from the hyperplane to the nearest data points.\n",
        "- **Support Vectors**: Points closest to the hyperplane; they define the margin.\n",
        "\n",
        "---\n",
        "\n",
        "## 🔄 Hard Margin vs. Soft Margin\n",
        "\n",
        "### Hard Margin SVM\n",
        "\n",
        "- Assumes data is **perfectly separable**\n",
        "- No misclassifications allowed\n",
        "- Sensitive to noise\n",
        "\n",
        "### Soft Margin SVM\n",
        "\n",
        "- Allows some misclassification\n",
        "- Uses **regularization parameter (C)** to control the trade-off between margin size and classification errors\n",
        "\n",
        "---\n",
        "\n",
        "## 🧠 Hinge Loss (Used in SVM)\n",
        "\n",
        "$$\n",
        "\\text{Loss} = \\max(0, 1 - y(w \\cdot x + b))\n",
        "$$\n",
        "\n",
        "- Penalizes only when the point is inside the margin or misclassified\n",
        "\n",
        "---\n",
        "\n",
        "## 🧮 Optimization Objective\n",
        "\n",
        "Minimize:\n",
        "\n",
        "$$\n",
        "\\frac{1}{2} \\|w\\|^2 + C \\sum \\xi_i\n",
        "$$\n",
        "\n",
        "Subject to:\n",
        "\n",
        "$$\n",
        "y_i(w \\cdot x_i + b) \\geq 1 - \\xi_i, \\quad \\xi_i \\geq 0\n",
        "$$\n",
        "\n",
        "- \\( C \\): regularization parameter controlling margin vs error\n",
        "\n",
        "---\n",
        "\n",
        "## 🌀 Kernel Trick\n",
        "\n",
        "SVM can also handle **non-linearly separable** data using **kernel functions**.\n",
        "\n",
        "### Common Kernels\n",
        "\n",
        "| Kernel         | Description                          |\n",
        "| -------------- | ------------------------------------ |\n",
        "| Linear         | For linearly separable data          |\n",
        "| Polynomial     | Adds power terms (x², x³, ...)       |\n",
        "| RBF / Gaussian | Good for complex, curved boundaries  |\n",
        "| Sigmoid        | Similar to neural network activation |\n",
        "\n",
        "---\n",
        "\n",
        "## ✅ Advantages of SVM\n",
        "\n",
        "- Effective in **high-dimensional** spaces\n",
        "- Works well with **clear margin of separation**\n",
        "- Memory efficient (uses only support vectors)\n",
        "- Can be extended with kernels for non-linear problems\n",
        "\n",
        "---\n",
        "\n",
        "## ❌ Disadvantages of SVM\n",
        "\n",
        "- Slow training on **large datasets**\n",
        "- Needs careful **parameter tuning** (C, kernel)\n",
        "- Doesn't perform well when classes **overlap heavily**\n",
        "- No direct **probability output** (like logistic regression)\n",
        "\n",
        "---\n",
        "\n",
        "## 📂 Use Cases of SVM\n",
        "\n",
        "- Image classification\n",
        "- Text categorization (spam detection)\n",
        "- Bioinformatics (gene classification)\n",
        "- Face detection\n",
        "- Handwriting recognition\n",
        "\n",
        "---\n",
        "\n",
        "## 📊 Summary Table\n",
        "\n",
        "| Feature               | Description                              |\n",
        "| --------------------- | ---------------------------------------- |\n",
        "| Type                  | Supervised Learning                      |\n",
        "| Task                  | Classification & Regression              |\n",
        "| Margin-based?         | ✅ Yes (Maximize margin)                  |\n",
        "| Handles Non-linearity | ✅ Yes (with kernel trick)                |\n",
        "| Sensitive to Outliers | ✅ Yes (soft margin helps reduce this)    |\n",
        "| Probabilistic Output  | ❌ No (can be approximated with methods)  |\n",
        "| Training Speed        | 🐢 Slower on large datasets              |\n",
        "| Prediction Speed      | 🚀 Fast (relies on support vectors only) |\n",
        "\n",
        "---\n",
        "\n",
        "## 🔁 SVM vs KNN\n",
        "\n",
        "| Feature                   | SVM                                        | KNN                                          |\n",
        "| ------------------------- | ------------------------------------------ | -------------------------------------------- |\n",
        "| **Type**                  | Model-based (learns decision boundary)     | Instance-based (no training, just memory)    |\n",
        "| **Training Time**         | High (optimization required)               | None (just store data)                       |\n",
        "| **Prediction Time**       | Fast (depends on #support vectors)         | Slow (needs distance to all training points) |\n",
        "| **Handles Non-linearity** | Yes (with kernel)                          | Partially (can work with non-linear shapes)  |\n",
        "| **Outlier Sensitivity**   | High (can be handled with soft margin)     | High (affected by local noise)               |\n",
        "| **Memory Usage**          | Low (uses only support vectors)            | High (stores entire dataset)                 |\n",
        "| **Intuition**             | Finds boundary with max margin             | \"Looks at k nearest neighbors\"               |\n",
        "| **Use Case**              | Text/image classification, structured data | Small/clean datasets, pattern recognition    |\n",
        "\n",
        "\n"
      ],
      "metadata": {
        "id": "GomVs1HFRbem"
      }
    },
    {
      "cell_type": "markdown",
      "source": [
        "### Import matplotlib for plotting"
      ],
      "metadata": {
        "id": "_DuJIZeAMfAq"
      }
    },
    {
      "cell_type": "code",
      "source": [
        "import matplotlib.pyplot as plt\n"
      ],
      "metadata": {
        "id": "b9Z-Ah1vMcJB"
      },
      "execution_count": 92,
      "outputs": []
    },
    {
      "cell_type": "markdown",
      "source": [
        "- Imports the plotting library to visualize data points, decision boundary, margins, and support vectors.\n",
        "\n"
      ],
      "metadata": {
        "id": "-TPrwp7vMjxq"
      }
    },
    {
      "cell_type": "markdown",
      "source": [
        "### 🔢 DATA SETUP"
      ],
      "metadata": {
        "id": "jkPi05uUJQuA"
      }
    },
    {
      "cell_type": "code",
      "source": [
        "# Sample linearly separable data\n",
        "data = [\n",
        "    ([2, 4], 1),\n",
        "    ([4, 4], 1),\n",
        "    ([4, 2], 1),\n",
        "    ([6, 2], -1),\n",
        "    ([4, 0], -1),\n",
        "    ([6, 0], -1)\n",
        "]\n"
      ],
      "metadata": {
        "id": "lDtRZcrSJMBD"
      },
      "execution_count": 93,
      "outputs": []
    },
    {
      "cell_type": "markdown",
      "source": [
        "- This is your training dataset.\n",
        "\n",
        "- Each item is a tuple: (`[x1, x2]`, label)\n",
        "\n",
        "- The label is either `1` or `-1` (binary classification).\n",
        "\n",
        "- The data is **linearly separable**, meaning you can draw a straight line to separate classes.\n"
      ],
      "metadata": {
        "id": "4NplIHRUJbqT"
      }
    },
    {
      "cell_type": "markdown",
      "source": [
        "### ⚙️ INITIALIZATION"
      ],
      "metadata": {
        "id": "FvmceGFgJigB"
      }
    },
    {
      "cell_type": "code",
      "source": [
        "w = [0.0, 0.0]  # weights for each feature (x1, x2)\n",
        "b = 0.0         # bias term\n",
        "learning_rate = 0.01\n",
        "epochs = 1000   # number of training iterations\n"
      ],
      "metadata": {
        "id": "TMbhV3OrJL8U"
      },
      "execution_count": 94,
      "outputs": []
    },
    {
      "cell_type": "markdown",
      "source": [
        "- `w` is a list of weights `[w1, w2]` — initially zero.\n",
        "\n",
        "- `b` is the bias — the intercept in the decision boundary equation.\n",
        "\n",
        "- `learning_rate` controls the step size of updates.\n",
        "\n",
        "- `epochs` defines how many times to loop through the dataset.\n"
      ],
      "metadata": {
        "id": "e9N5mqScJsXv"
      }
    },
    {
      "cell_type": "markdown",
      "source": [
        "### 🔁 TRAINING LOOP"
      ],
      "metadata": {
        "id": "6WOkwImZJvWK"
      }
    },
    {
      "cell_type": "code",
      "source": [
        "for epoch in range(epochs):\n",
        "    for x, y in data:\n",
        "        output = y * (w[0]*x[0] + w[1]*x[1] + b)  # Calculate margin\n",
        "        if output < 1:\n",
        "            # Point is inside margin or misclassified\n",
        "            w[0] += learning_rate * (y * x[0])  # Update weight for x1\n",
        "            w[1] += learning_rate * (y * x[1])  # Update weight for x2\n",
        "            b += learning_rate * y               # Update bias\n",
        "        else:\n",
        "            # Correctly classified, no update needed\n",
        "            continue\n"
      ],
      "metadata": {
        "id": "3a0KuieuJL4u"
      },
      "execution_count": 95,
      "outputs": []
    },
    {
      "cell_type": "markdown",
      "source": [
        "- For each epoch, iterate through all points.\n",
        "\n",
        "- Compute `output = y * (w · x + b)`, the margin.\n",
        "\n",
        "- If margin < 1 (point inside margin or misclassified), update weights and bias.\n",
        "\n",
        "- Otherwise, skip update.\n"
      ],
      "metadata": {
        "id": "AZo7JlIoM9eV"
      }
    },
    {
      "cell_type": "markdown",
      "source": [
        "- Start looping over the dataset `epochs` times.\n",
        "\n",
        "- `total_loss` tracks how well the model is doing in this epoch.\n"
      ],
      "metadata": {
        "id": "MvYHHTnNJ54q"
      }
    },
    {
      "cell_type": "markdown",
      "source": [
        "### Print the learned weights and bias after training"
      ],
      "metadata": {
        "id": "ixCPNjx7NdBE"
      }
    },
    {
      "cell_type": "code",
      "source": [
        "print(\"Learned weights:\", w)\n",
        "print(\"Bias:\", b)\n"
      ],
      "metadata": {
        "colab": {
          "base_uri": "https://localhost:8080/"
        },
        "id": "QUQG5OJfNVxX",
        "outputId": "642cec8a-3ef8-4444-968c-b74a190771e2"
      },
      "execution_count": 96,
      "outputs": [
        {
          "output_type": "stream",
          "name": "stdout",
          "text": [
            "Learned weights: [-1.020000000000001, 2.160000000000001]\n",
            "Bias: 0.7900000000000005\n"
          ]
        }
      ]
    },
    {
      "cell_type": "markdown",
      "source": [
        "### 🔍 PREDICTION FUNCTION"
      ],
      "metadata": {
        "id": "pphEpdg4K4nZ"
      }
    },
    {
      "cell_type": "code",
      "source": [
        "def predict(x):\n",
        "    result = w[0]*x[0] + w[1]*x[1] + b\n",
        "    return 1 if result >= 0 else -1\n"
      ],
      "metadata": {
        "id": "rWvoTLgZJLmA"
      },
      "execution_count": 97,
      "outputs": []
    },
    {
      "cell_type": "markdown",
      "source": [
        "- Shows the final learned linear model:  \n",
        "  **Decision boundary:**  \n",
        "  $$\n",
        "  w[0] \\times x_1 + w[1] \\times x_2 + b = 0\n",
        "$$\n"
      ],
      "metadata": {
        "id": "9di0_2v7KyvW"
      }
    },
    {
      "cell_type": "markdown",
      "source": [
        "- Compute the dot product plus bias.\n",
        "\n",
        "- Apply a sign function to get the predicted class (`1` or `-1`).\n"
      ],
      "metadata": {
        "id": "o4ROvCk9LAPi"
      }
    },
    {
      "cell_type": "markdown",
      "source": [
        "### 🧪 TESTING ON NEW POINTS"
      ],
      "metadata": {
        "id": "_56DVGJ4LCqI"
      }
    },
    {
      "cell_type": "code",
      "source": [
        "test_points = [[3, 3], [5, 1]]\n",
        "for point in test_points:\n",
        "    label = predict(point)\n",
        "    print(f\"Point {point} is classified as:\", label)\n"
      ],
      "metadata": {
        "colab": {
          "base_uri": "https://localhost:8080/"
        },
        "id": "7zEc3QguJLi2",
        "outputId": "46f03763-1ab4-4f8c-dc85-282555c9315c"
      },
      "execution_count": 98,
      "outputs": [
        {
          "output_type": "stream",
          "name": "stdout",
          "text": [
            "Point [3, 3] is classified as: 1\n",
            "Point [5, 1] is classified as: -1\n"
          ]
        }
      ]
    },
    {
      "cell_type": "markdown",
      "source": [
        "- Classify new points and print results."
      ],
      "metadata": {
        "id": "HM8QDan1OD3l"
      }
    },
    {
      "cell_type": "markdown",
      "source": [
        "### Plotting setup"
      ],
      "metadata": {
        "id": "7_1koD3tOFxZ"
      }
    },
    {
      "cell_type": "code",
      "source": [
        "plt.figure(figsize=(8, 6))\n"
      ],
      "metadata": {
        "colab": {
          "base_uri": "https://localhost:8080/",
          "height": 52
        },
        "id": "LhCsNc-cOB0J",
        "outputId": "9a873d4e-e8ab-4471-882a-1e18f9ce2d74"
      },
      "execution_count": 99,
      "outputs": [
        {
          "output_type": "execute_result",
          "data": {
            "text/plain": [
              "<Figure size 800x600 with 0 Axes>"
            ]
          },
          "metadata": {},
          "execution_count": 99
        },
        {
          "output_type": "display_data",
          "data": {
            "text/plain": [
              "<Figure size 800x600 with 0 Axes>"
            ]
          },
          "metadata": {}
        }
      ]
    },
    {
      "cell_type": "markdown",
      "source": [
        "- Creates a figure of size 8x6 inches."
      ],
      "metadata": {
        "id": "gTHONPZ7OJcB"
      }
    },
    {
      "cell_type": "markdown",
      "source": [
        "### Plot training data points with colors by class"
      ],
      "metadata": {
        "id": "io22VcAxOL6w"
      }
    },
    {
      "cell_type": "code",
      "source": [
        "for x, y in data:\n",
        "    color = 'blue' if y == 1 else 'red'\n",
        "    plt.scatter(x[0], x[1], color=color, s=80, edgecolors='k')\n"
      ],
      "metadata": {
        "colab": {
          "base_uri": "https://localhost:8080/",
          "height": 430
        },
        "id": "rCOQPcIJOBvq",
        "outputId": "daf2ca9f-41a9-4ef5-e59d-283a81c8fe7d"
      },
      "execution_count": 100,
      "outputs": [
        {
          "output_type": "display_data",
          "data": {
            "text/plain": [
              "<Figure size 640x480 with 1 Axes>"
            ],
            "image/png": "[encoded data removed]"
          },
          "metadata": {}
        }
      ]
    },
    {
      "cell_type": "markdown",
      "source": [
        "- For each point, plot a scatter point.\n",
        "\n",
        "- Blue for class 1, red for class -1.\n",
        "\n",
        "- Black edge for better visibility."
      ],
      "metadata": {
        "id": "AyMvNstWOQhY"
      }
    },
    {
      "cell_type": "markdown",
      "source": [
        "### Create a grid of x-values for plotting decision boundary and margins"
      ],
      "metadata": {
        "id": "HZ00D0u8OVOM"
      }
    },
    {
      "cell_type": "code",
      "source": [
        "import numpy as np\n",
        "x_vals = np.linspace(0, 8, 100)\n"
      ],
      "metadata": {
        "id": "GPjMB-qaOBr8"
      },
      "execution_count": 101,
      "outputs": []
    },
    {
      "cell_type": "markdown",
      "source": [
        "- x_vals is 100 points between 0 and 8 (x-axis values)."
      ],
      "metadata": {
        "id": "Ixpw4uIWOYZQ"
      }
    },
    {
      "cell_type": "markdown",
      "source": [
        "### Calculate the hyperplane (decision boundary) y-values"
      ],
      "metadata": {
        "id": "B9OxgaHXOcIA"
      }
    },
    {
      "cell_type": "code",
      "source": [
        "# Hyperplane equation: w1*x + w2*y + b = 0\n",
        "y_vals = -(w[0] * x_vals + b) / w[1]\n"
      ],
      "metadata": {
        "id": "42zni96oOaks"
      },
      "execution_count": 102,
      "outputs": []
    },
    {
      "cell_type": "markdown",
      "source": [
        "- Rearrange equation to solve for y:\n",
        "`y = -(w1*x + b) / w2`"
      ],
      "metadata": {
        "id": "3kXHrTTTOgjt"
      }
    },
    {
      "cell_type": "markdown",
      "source": [
        "### Calculate margin lines (offset by ±1)"
      ],
      "metadata": {
        "id": "BWjgncTuOnEV"
      }
    },
    {
      "cell_type": "code",
      "source": [
        "margin_plus = -(w[0] * x_vals + b - 1) / w[1]\n",
        "margin_minus = -(w[0] * x_vals + b + 1) / w[1]\n"
      ],
      "metadata": {
        "id": "Dn47JyKaOadd"
      },
      "execution_count": 103,
      "outputs": []
    },
    {
      "cell_type": "markdown",
      "source": [
        "- Margins correspond to:  \n",
        "$\n",
        "  w \\cdot x + b = \\pm 1\n",
        "$\n",
        "\n",
        "- Compute y-values for these margin lines\n"
      ],
      "metadata": {
        "id": "SN7L3bXrOvqB"
      }
    },
    {
      "cell_type": "markdown",
      "source": [
        "### . Plot decision boundary and margin lines"
      ],
      "metadata": {
        "id": "z8hxNFe1O0_d"
      }
    },
    {
      "cell_type": "code",
      "source": [
        "plt.plot(x_vals, y_vals, 'k-', label='Decision Boundary')\n",
        "plt.plot(x_vals, margin_plus, 'k--', label='Margin')\n",
        "plt.plot(x_vals, margin_minus, 'k--')\n"
      ],
      "metadata": {
        "colab": {
          "base_uri": "https://localhost:8080/",
          "height": 447
        },
        "id": "MAEWGFuFOaXC",
        "outputId": "6035a5ae-a4d4-4942-8aba-d06c1b576890"
      },
      "execution_count": 104,
      "outputs": [
        {
          "output_type": "execute_result",
          "data": {
            "text/plain": [
              "[<matplotlib.lines.Line2D at 0x7ef9e9cc8190>]"
            ]
          },
          "metadata": {},
          "execution_count": 104
        },
        {
          "output_type": "display_data",
          "data": {
            "text/plain": [
              "<Figure size 640x480 with 1 Axes>"
            ],
            "image/png": "[encoded data removed]"
          },
          "metadata": {}
        }
      ]
    },
    {
      "cell_type": "markdown",
      "source": [
        "- Draw solid black line for decision boundary.\n",
        "\n",
        "- Draw dashed black lines for margins.\n",
        "\n"
      ],
      "metadata": {
        "id": "DiiRpLhlO5Tx"
      }
    },
    {
      "cell_type": "markdown",
      "source": [
        "### Find support vectors"
      ],
      "metadata": {
        "id": "FjGOCDijO84S"
      }
    },
    {
      "cell_type": "code",
      "source": [
        "support_vectors = []\n",
        "for x, y in data:\n",
        "    output = y * (w[0]*x[0] + w[1]*x[1] + b)\n",
        "    if output <= 1.01:  # Points on or inside margin\n",
        "        support_vectors.append(x)\n"
      ],
      "metadata": {
        "id": "9Hy3oaNmOaRg"
      },
      "execution_count": 105,
      "outputs": []
    },
    {
      "cell_type": "markdown",
      "source": [
        "- Support vectors are points on or inside the margin (margin violation).\n",
        "\n",
        "- Collect these points to highlight."
      ],
      "metadata": {
        "id": "yAjsBZZfPAeN"
      }
    },
    {
      "cell_type": "markdown",
      "source": [
        "### Highlight support vectors on the plot"
      ],
      "metadata": {
        "id": "xPS8JbA3PDW6"
      }
    },
    {
      "cell_type": "code",
      "source": [
        "for sv in support_vectors:\n",
        "    plt.scatter(sv[0], sv[1], s=200, facecolors='none', edgecolors='green', linewidths=2, label='Support Vector' if 'Support Vector' not in plt.gca().get_legend_handles_labels()[1] else \"\")\n"
      ],
      "metadata": {
        "id": "hvkxaA-AOaNv"
      },
      "execution_count": 106,
      "outputs": []
    },
    {
      "cell_type": "markdown",
      "source": [
        "- Plot support vectors with large green circles (hollow).\n",
        "\n",
        "- Label only once in the legend."
      ],
      "metadata": {
        "id": "NNyRHdN4PG-f"
      }
    },
    {
      "cell_type": "markdown",
      "source": [
        "### Final plot decorations and show"
      ],
      "metadata": {
        "id": "R4VjRsWcPKI1"
      }
    },
    {
      "cell_type": "code",
      "source": [
        "plt.title(\"SVM Decision Boundary with Margins\")\n",
        "plt.xlabel(\"x1\")\n",
        "plt.ylabel(\"x2\")\n",
        "plt.legend()\n",
        "plt.grid(True)\n",
        "plt.show()\n"
      ],
      "metadata": {
        "id": "vTdfqFOEOaJb"
      },
      "execution_count": null,
      "outputs": []
    },
    {
      "cell_type": "markdown",
      "source": [
        "- Add title, axis labels, legend, grid.\n",
        "\n",
        "- Display the plot window."
      ],
      "metadata": {
        "id": "jTj3o01uPQUA"
      }
    },
    {
      "cell_type": "code",
      "source": [
        "import matplotlib.pyplot as plt\n",
        "\n",
        "# ---------------------\n",
        "# Plotting\n",
        "# ---------------------\n",
        "\n",
        "# Prepare the plot\n",
        "plt.figure(figsize=(8, 6))\n",
        "\n",
        "# Plot data points\n",
        "for x, y in data:\n",
        "    color = 'blue' if y == 1 else 'red'\n",
        "    plt.scatter(x[0], x[1], color=color, s=80, edgecolors='k')\n",
        "\n",
        "# Create a grid for drawing the decision boundary\n",
        "import numpy as np\n",
        "x_vals = np.linspace(0, 8, 100)\n",
        "# Hyperplane: w1*x + w2*y + b = 0 => y = -(w1*x + b)/w2\n",
        "y_vals = -(w[0] * x_vals + b) / w[1]\n",
        "# Margins: y = -(w1*x + b ± 1)/w2\n",
        "margin_plus = -(w[0] * x_vals + b - 1) / w[1]\n",
        "margin_minus = -(w[0] * x_vals + b + 1) / w[1]\n",
        "\n",
        "# Plot decision boundary and margins\n",
        "plt.plot(x_vals, y_vals, 'k-', label='Decision Boundary')\n",
        "plt.plot(x_vals, margin_plus, 'k--', label='Margin')\n",
        "plt.plot(x_vals, margin_minus, 'k--')\n",
        "\n",
        "# Identify support vectors (points with margin violation: loss > 0)\n",
        "support_vectors = []\n",
        "for x, y in data:\n",
        "    output = y * (w[0]*x[0] + w[1]*x[1] + b)\n",
        "    if output <= 1.01:  # Support vectors lie on or inside margin\n",
        "        support_vectors.append(x)\n",
        "\n",
        "# Highlight support vectors\n",
        "for sv in support_vectors:\n",
        "    plt.scatter(sv[0], sv[1], s=200, facecolors='none', edgecolors='green', linewidths=2, label='Support Vector' if 'Support Vector' not in plt.gca().get_legend_handles_labels()[1] else \"\")\n",
        "\n",
        "plt.title(\"SVM Decision Boundary with Margins\")\n",
        "plt.xlabel(\"x1\")\n",
        "plt.ylabel(\"x2\")\n",
        "plt.legend()\n",
        "plt.grid(True)\n",
        "plt.show()\n"
      ],
      "metadata": {
        "colab": {
          "base_uri": "https://localhost:8080/",
          "height": 564
        },
        "id": "Xucdw8vJD-xB",
        "outputId": "4b87cf5b-08a5-4bc0-faa7-ae108a00a2e3"
      },
      "execution_count": 108,
      "outputs": [
        {
          "output_type": "display_data",
          "data": {
            "text/plain": [
              "<Figure size 800x600 with 1 Axes>"
            ],
            "image/png": "[encoded data removed]"
          },
          "metadata": {}
        }
      ]
    },
    {
      "cell_type": "code",
      "source": [],
      "metadata": {
        "id": "ABuzCKG7EXEf"
      },
      "execution_count": 109,
      "outputs": []
    }
  ]
}